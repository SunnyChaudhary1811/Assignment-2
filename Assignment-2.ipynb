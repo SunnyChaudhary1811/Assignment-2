{
 "cells": [
  {
   "cell_type": "markdown",
   "id": "0fae16d9",
   "metadata": {},
   "source": [
    "ASSIGNMENT - 2"
   ]
  },
  {
   "cell_type": "markdown",
   "id": "e45fb9f9",
   "metadata": {},
   "source": [
    "Question-1:"
   ]
  },
  {
   "cell_type": "markdown",
   "id": "00235a5a",
   "metadata": {},
   "source": [
    "1. True\n",
    "2. False"
   ]
  },
  {
   "cell_type": "markdown",
   "id": "abba35e8",
   "metadata": {},
   "source": [
    "Question-2:"
   ]
  },
  {
   "cell_type": "markdown",
   "id": "ef5a5f3e",
   "metadata": {},
   "source": [
    "1. and\n",
    "2. or\n",
    "3. not"
   ]
  },
  {
   "cell_type": "markdown",
   "id": "13ae73c8",
   "metadata": {},
   "source": [
    "Question-3:"
   ]
  },
  {
   "cell_type": "markdown",
   "id": "10a8d9b9",
   "metadata": {},
   "source": [
    "|a||b||a and b||a or b||not(a and b)||not(a or b)| \n",
    "|-||-||-------||------||------------||-----------|\n",
    "|true||true||true||true||false||false|\n",
    "|false||true||false||true||true||false|\n",
    "|true||false||false||true||true||false|\n",
    "|false||false||false||false||true||true|\n"
   ]
  },
  {
   "cell_type": "markdown",
   "id": "c6ff52da",
   "metadata": {},
   "source": [
    "Question-4:"
   ]
  },
  {
   "cell_type": "markdown",
   "id": "ef342441",
   "metadata": {},
   "source": [
    "1. (5 > 4) and (3 == 5)"
   ]
  },
  {
   "cell_type": "markdown",
   "id": "46bab893",
   "metadata": {},
   "source": [
    "output = false"
   ]
  },
  {
   "cell_type": "markdown",
   "id": "eae9384a",
   "metadata": {},
   "source": [
    "2. not (5 > 4)"
   ]
  },
  {
   "cell_type": "markdown",
   "id": "e7db84d5",
   "metadata": {},
   "source": [
    "output = false"
   ]
  },
  {
   "cell_type": "markdown",
   "id": "4055f7d1",
   "metadata": {},
   "source": [
    "3. (5 > 4) or (3 == 5)"
   ]
  },
  {
   "cell_type": "markdown",
   "id": "a8440db5",
   "metadata": {},
   "source": [
    "output = true"
   ]
  },
  {
   "cell_type": "markdown",
   "id": "31cb5813",
   "metadata": {},
   "source": [
    "4. not ((5 > 4) or (3 == 5))"
   ]
  },
  {
   "cell_type": "markdown",
   "id": "7884a689",
   "metadata": {},
   "source": [
    "output = false"
   ]
  },
  {
   "cell_type": "markdown",
   "id": "6728b9b2",
   "metadata": {},
   "source": [
    "5. (True and True) and (True == False)"
   ]
  },
  {
   "cell_type": "markdown",
   "id": "55aa7c6a",
   "metadata": {},
   "source": [
    "output = false"
   ]
  },
  {
   "cell_type": "markdown",
   "id": "5747c283",
   "metadata": {},
   "source": [
    "6. (not False) or (not True)"
   ]
  },
  {
   "cell_type": "markdown",
   "id": "bac81ec7",
   "metadata": {},
   "source": [
    "output = true"
   ]
  },
  {
   "cell_type": "markdown",
   "id": "77689a5d",
   "metadata": {},
   "source": [
    "Question-5:"
   ]
  },
  {
   "cell_type": "markdown",
   "id": "2c0b6ae2",
   "metadata": {},
   "source": [
    "1. Equal to (==): Checks if two values are equal and returns True if they are, False otherwise\n",
    "2. Not equal to (!=): Checks if two values are not equal and returns True if they are not, False otherwise\n",
    "3. Greater than (>): Checks if the left operand is greater than the right operand and returns True if it is, False otherwise.\n",
    "4. Less than (<): Checks if the left operand is less than the right operand and returns True if it is, False otherwise.\n",
    "5. Greater than or equal to (>=): Checks if the left operand is greater than or equal to the right operand and returns True if it is, False otherwise.\n",
    "6. Less than or equal to (<=): Checks if the left operand is less than or equal to the right operand and returns True if it is, False otherwise."
   ]
  },
  {
   "cell_type": "markdown",
   "id": "08838011",
   "metadata": {},
   "source": [
    "Question-6:"
   ]
  },
  {
   "cell_type": "markdown",
   "id": "526beb3d",
   "metadata": {},
   "source": [
    "1. Equal to operator (==): The double equals sign (==) is a comparison operator used to check if two values are equal. It compares the values on both sides of the operator and returns True if they are equal, and False otherwise.\n",
    "2. Assignment operator (=): The single equals sign (=) is an assignment operator used to assign a value to a variable. It takes the value on the right side and assigns it to the variable on the left side."
   ]
  },
  {
   "cell_type": "code",
   "execution_count": 16,
   "id": "bb942f80",
   "metadata": {},
   "outputs": [
    {
     "name": "stdout",
     "output_type": "stream",
     "text": [
      "x and y are not equal\n"
     ]
    }
   ],
   "source": [
    "x = 5\n",
    "y = 10\n",
    "\n",
    "if x == y:\n",
    "    print(\"x and y are equal\")\n",
    "else:\n",
    "    print(\"x and y are not equal\")\n"
   ]
  },
  {
   "cell_type": "code",
   "execution_count": 17,
   "id": "9c3bf94f",
   "metadata": {},
   "outputs": [
    {
     "name": "stdout",
     "output_type": "stream",
     "text": [
      "7\n"
     ]
    }
   ],
   "source": [
    "x = 5\n",
    "\n",
    "y = x + 2\n",
    "\n",
    "print(y)  # Output: 7\n"
   ]
  },
  {
   "cell_type": "markdown",
   "id": "e6c5c94d",
   "metadata": {},
   "source": [
    "Question-7:"
   ]
  },
  {
   "cell_type": "markdown",
   "id": "7d0f4337",
   "metadata": {},
   "source": [
    "block 1\n",
    "if spam == 10:\n",
    "print(&#39;eggs&#39;)"
   ]
  },
  {
   "cell_type": "markdown",
   "id": "f20a0a81",
   "metadata": {},
   "source": [
    "block 2 \n",
    "if spam &gt; 5:\n",
    "print(&#39;bacon&#39;)"
   ]
  },
  {
   "cell_type": "markdown",
   "id": "dbfbcb16",
   "metadata": {},
   "source": [
    "block 3 else:\n",
    "print(&#39;ham&#39;)\n",
    "print(&#39;spam&#39;)\n",
    "print(&#39;spam&#39;)"
   ]
  },
  {
   "cell_type": "markdown",
   "id": "e2cf9bb7",
   "metadata": {},
   "source": [
    "Question-8:\n"
   ]
  },
  {
   "cell_type": "code",
   "execution_count": 18,
   "id": "ab93c412",
   "metadata": {},
   "outputs": [
    {
     "name": "stdout",
     "output_type": "stream",
     "text": [
      "4\n",
      "Greetings!\n"
     ]
    }
   ],
   "source": [
    "spam = int(input())\n",
    "if(spam==1):\n",
    "    print('Hello')\n",
    "elif(spam==2):\n",
    "    print('Howdy')\n",
    "else:\n",
    "    print(\"Greetings!\")"
   ]
  },
  {
   "cell_type": "markdown",
   "id": "1e8dd3eb",
   "metadata": {},
   "source": [
    "Question-9:"
   ]
  },
  {
   "cell_type": "markdown",
   "id": "aaf13529",
   "metadata": {},
   "source": [
    "Ctrl + C \"sends an interrupt signal to the running program, which should terminate it.\""
   ]
  },
  {
   "cell_type": "markdown",
   "id": "c8bff326",
   "metadata": {},
   "source": [
    "Question-10:"
   ]
  },
  {
   "cell_type": "markdown",
   "id": "8d2a08fb",
   "metadata": {},
   "source": [
    "1. Break: The \"break\" statement is used to immediately exit the loop, regardless of any remaining iterations\n",
    "2. Continue: The \"continue\" statement is used to skip the current iteration of the loop and move to the next iteration"
   ]
  },
  {
   "cell_type": "markdown",
   "id": "6d3ad691",
   "metadata": {},
   "source": [
    "Question-11:"
   ]
  },
  {
   "cell_type": "markdown",
   "id": "d6cc77f1",
   "metadata": {},
   "source": [
    "\n",
    "1. range(10) represents a built-in Python function that generates a sequence of numbers starting from 0 (default), but not including, the specified stop value of 10. The sequence produced by range(10) is [0, 1, 2, 3, 4, 5, 6, 7, 8, 9].\n",
    "2. range(0, 10) represents a built-in Python function that generates a sequence of numbers starting from the specified start value of 0 and going up to, but not including, the specified stop value of 10. The sequence produced by range(0, 10) is [0, 1, 2, 3, 4, 5, 6, 7, 8, 9].\n",
    "3. range(0, 10, 1) represents a built-in Python function that generates a sequence of numbers starting from the specified start value of 0, incrementing by the specified step value of 1, and going up to, but not including, the specified stop value of 10. The sequence produced by range(0, 10, 1) is [0, 1, 2, 3, 4, 5, 6, 7, 8, 9]."
   ]
  },
  {
   "cell_type": "markdown",
   "id": "63954a1c",
   "metadata": {},
   "source": [
    "Question-12:"
   ]
  },
  {
   "cell_type": "code",
   "execution_count": 19,
   "id": "81c0d6f9",
   "metadata": {},
   "outputs": [
    {
     "name": "stdout",
     "output_type": "stream",
     "text": [
      "1\n",
      "2\n",
      "3\n",
      "4\n",
      "5\n",
      "6\n",
      "7\n",
      "8\n",
      "9\n",
      "10\n"
     ]
    }
   ],
   "source": [
    "for i in range(1,11):\n",
    "    print(i)"
   ]
  },
  {
   "cell_type": "code",
   "execution_count": 20,
   "id": "bd354e08",
   "metadata": {},
   "outputs": [
    {
     "name": "stdout",
     "output_type": "stream",
     "text": [
      "1\n",
      "2\n",
      "3\n",
      "4\n",
      "5\n",
      "6\n",
      "7\n",
      "8\n",
      "9\n",
      "10\n"
     ]
    }
   ],
   "source": [
    "i = 1\n",
    "while(i<11):\n",
    "    print(i)\n",
    "    i+=1"
   ]
  },
  {
   "cell_type": "markdown",
   "id": "bf6a6d83",
   "metadata": {},
   "source": [
    "Question-13:"
   ]
  },
  {
   "cell_type": "markdown",
   "id": "a9f64211",
   "metadata": {},
   "source": [
    "import spam\n",
    "\n",
    "spam.bacon()\n"
   ]
  },
  {
   "cell_type": "code",
   "execution_count": null,
   "id": "5547fea6",
   "metadata": {},
   "outputs": [],
   "source": []
  }
 ],
 "metadata": {
  "kernelspec": {
   "display_name": "Python 3 (ipykernel)",
   "language": "python",
   "name": "python3"
  },
  "language_info": {
   "codemirror_mode": {
    "name": "ipython",
    "version": 3
   },
   "file_extension": ".py",
   "mimetype": "text/x-python",
   "name": "python",
   "nbconvert_exporter": "python",
   "pygments_lexer": "ipython3",
   "version": "3.9.13"
  }
 },
 "nbformat": 4,
 "nbformat_minor": 5
}
